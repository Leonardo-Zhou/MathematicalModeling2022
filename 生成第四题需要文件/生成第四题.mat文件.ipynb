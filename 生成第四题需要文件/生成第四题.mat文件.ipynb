{
 "cells": [
  {
   "cell_type": "code",
   "execution_count": 34,
   "metadata": {},
   "outputs": [],
   "source": [
    "import scipy.io as scio\n",
    "import numpy as np\n",
    "import pandas as pd\n",
    "import os"
   ]
  },
  {
   "cell_type": "code",
   "execution_count": 48,
   "metadata": {},
   "outputs": [],
   "source": [
    "# 读取原始文件\n",
    "gearbox_initial = []\n",
    "\n",
    "for i in range(5):\n",
    "    gearbox_initial.append(pd.read_excel('附件1.xlsx', i, dtype=np.float32))"
   ]
  },
  {
   "cell_type": "code",
   "execution_count": 47,
   "metadata": {},
   "outputs": [],
   "source": [
    "# 读取测试文件\n",
    "test_data = []\n",
    "for i in range(12):\n",
    "    test_data.append(pd.read_excel('附件2.xls', i, dtype=np.float32))"
   ]
  },
  {
   "cell_type": "code",
   "execution_count": 37,
   "metadata": {},
   "outputs": [],
   "source": [
    "# 生成文件夹\n",
    "for i in range(1,13):\n",
    "    os.mkdir('test{}'.format(i))"
   ]
  },
  {
   "cell_type": "code",
   "execution_count": 56,
   "metadata": {},
   "outputs": [],
   "source": [
    "# 生成.mat文件\n",
    "save_path = 'test{}/g{}0.mat'\n",
    "\n",
    "for i in range(1,13):\n",
    "    for j in range(5):\n",
    "        temp1 = gearbox_initial[j].iloc[:,1:4]\n",
    "        temp2 = test_data[i-1].iloc[:,1:4]\n",
    "        temp = np.array(pd.concat([temp1, temp2]))\n",
    "        scio.savemat(save_path.format(i,j),{'g{}0'.format(j):np.array(temp)})"
   ]
  }
 ],
 "metadata": {
  "interpreter": {
   "hash": "2e29c5108778eb8e7f9459872b335987e14a8d26233c21432333cc618a7be52a"
  },
  "kernelspec": {
   "display_name": "Python 3.9.7 ('venv': venv)",
   "language": "python",
   "name": "python3"
  },
  "language_info": {
   "codemirror_mode": {
    "name": "ipython",
    "version": 3
   },
   "file_extension": ".py",
   "mimetype": "text/x-python",
   "name": "python",
   "nbconvert_exporter": "python",
   "pygments_lexer": "ipython3",
   "version": "3.9.7"
  },
  "orig_nbformat": 4
 },
 "nbformat": 4,
 "nbformat_minor": 2
}
