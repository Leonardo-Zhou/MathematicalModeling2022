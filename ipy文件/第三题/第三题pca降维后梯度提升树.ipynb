{
 "cells": [
  {
   "cell_type": "code",
   "execution_count": 15,
   "metadata": {},
   "outputs": [],
   "source": [
    "# 读取文件\n",
    "\n",
    "from sklearn.decomposition import PCA\n",
    "import numpy as np\n",
    "import pandas as pd\n",
    "\n",
    "gearbox_initial = []\n",
    "for i in range(5):\n",
    "    gearbox_initial.append(pd.read_excel('原始数据.xlsx', i, dtype=np.float32).iloc[:,:5])\n",
    "    gearbox_initial[i]['target'] = i\n",
    "\n",
    "\n"
   ]
  },
  {
   "cell_type": "code",
   "execution_count": 16,
   "metadata": {},
   "outputs": [],
   "source": [
    "# pca进行降维，data为降维后的数据，list类型\n",
    "\n",
    "pca = PCA(n_components='mle')\n",
    "data = []\n",
    "for train in gearbox_initial: \n",
    "    data.append(pca.fit_transform(train.iloc[:,:4]))\n"
   ]
  },
  {
   "cell_type": "code",
   "execution_count": 8,
   "metadata": {},
   "outputs": [],
   "source": [
    "# 保存csv文件\n",
    "\n",
    "# data[0] = pd.DataFrame(data[0], columns=['sensor1', 'sensor2', 'sensor3'])\n",
    "# data[0]['target'] = 0\n",
    "# data[0].to_csv('{}as.csv'.format(0))\n",
    "\n",
    "tmp = pd.DataFrame()\n",
    "for i in range(5):\n",
    "    data[i] = pd.DataFrame(data[i], columns=['sensor1', 'sensor2', 'sensor3'])\n",
    "    data[i]['target'] = i\n",
    "    tmp = pd.concat([tmp, data[i]])\n",
    "    # data[i].to_csv('{}as.csv'.format(i))\n",
    "\n"
   ]
  },
  {
   "cell_type": "code",
   "execution_count": 73,
   "metadata": {},
   "outputs": [],
   "source": [
    "# 使用梯度提升树获得最佳深度（use_boosting_tree(X_train,y_train,X_test,y_test)）\n",
    "\n",
    "from sklearn.ensemble import GradientBoostingClassifier\n",
    "from matplotlib import pyplot as plt\n",
    "from pylab import mpl\n",
    "\n",
    "def use_boosting_tree(X_train,y_train,X_test,y_test):\n",
    "    \"\"\"\n",
    "    使用梯度回升树，获得最佳深度\n",
    "    :return:\n",
    "    \"\"\"\n",
    "    mpl.rcParams['font.sans-serif'] = ['SimHei']\n",
    "    mpl.rcParams['axes.unicode_minus'] = False\n",
    "    start_depth = 1\n",
    "    n_depth = 20\n",
    "    # for 循环查找最合适的决策树的深度\n",
    "    best_depth = 1\n",
    "    highest_score = 0\n",
    "    train_s, test_s = [], []\n",
    "\n",
    "    for i in range(start_depth, n_depth):\n",
    "        tree = GradientBoostingClassifier(max_depth=i)\n",
    "        tree.fit(X_train, y_train)\n",
    "        train_score = tree.score(X_train, y_train)\n",
    "        test_score = tree.score(X_test, y_test)\n",
    "\n",
    "        train_s.append(train_score)\n",
    "        test_s.append(test_score)\n",
    "\n",
    "        best_depth = i if test_score > highest_score else best_depth\n",
    "        highest_score = test_score if test_score > highest_score else highest_score\n",
    "        print('深度为{}，测试准确率为{}'.format(i,test_score))\n",
    "\n",
    "    plt.plot(range(1, n_depth-start_depth+1), train_s)\n",
    "    plt.plot(range(1, n_depth-start_depth+1), test_s)\n",
    "\n",
    "    plt.legend(['训练集准确度', '测试集准确度'])\n",
    "\n",
    "    plt.xticks(range(start_depth-1, n_depth))\n",
    "    plt.yticks(np.linspace(0, 1, 11))\n",
    "\n",
    "    plt.title('梯度回升树不同复杂度准确情况')\n",
    "    plt.savefig('梯度回升树不同复杂度准确情况.png', dpi=1000)\n",
    "    plt.show()\n",
    "    print('最佳深度为：{}'.format(best_depth))\n",
    "    print('最好成绩为；{}'.format(highest_score))"
   ]
  },
  {
   "cell_type": "code",
   "execution_count": 74,
   "metadata": {},
   "outputs": [
    {
     "name": "stdout",
     "output_type": "stream",
     "text": [
      "深度为1，测试准确率为0.5190204081632653\n",
      "深度为2，测试准确率为0.5651428571428572\n",
      "深度为3，测试准确率为0.6277551020408163\n",
      "深度为4，测试准确率为0.6705034013605442\n",
      "深度为5，测试准确率为0.7201904761904762\n",
      "深度为6，测试准确率为0.7520272108843538\n",
      "深度为7，测试准确率为0.7779863945578231\n",
      "深度为8，测试准确率为0.7992380952380952\n",
      "深度为9，测试准确率为0.814421768707483\n",
      "深度为10，测试准确率为0.8271564625850341\n",
      "深度为11，测试准确率为0.8350204081632653\n",
      "深度为12，测试准确率为0.8375238095238096\n",
      "深度为13，测试准确率为0.8407346938775511\n",
      "深度为14，测试准确率为0.8420136054421768\n",
      "深度为15，测试准确率为0.8428027210884353\n",
      "深度为16，测试准确率为0.8422857142857143\n",
      "深度为17，测试准确率为0.8433197278911565\n",
      "深度为18，测试准确率为0.8452517006802721\n",
      "深度为19，测试准确率为0.8439455782312926\n"
     ]
    },
    {
     "data": {
      "image/png": "[encoded data removed]",
      "text/plain": [
       "<Figure size 432x288 with 1 Axes>"
      ]
     },
     "metadata": {
      "needs_background": "light"
     },
     "output_type": "display_data"
    },
    {
     "name": "stdout",
     "output_type": "stream",
     "text": [
      "最佳深度为：18\n",
      "最好成绩为；0.8452517006802721\n"
     ]
    }
   ],
   "source": [
    "# 运行上方自定函数，得到最佳深度\n",
    "\n",
    "from sklearn.model_selection import train_test_split\n",
    "\n",
    "data = np.array(tmp)\n",
    "X_train, X_test, y_train, y_test = train_test_split(tmp.iloc[:,:3], tmp.iloc[:,3], train_size=0.75)\n",
    "\n",
    "use_boosting_tree(X_train,y_train,X_test,y_test)\n",
    "\"\"\"\n",
    "最佳深度为：18\n",
    "最好成绩为；0.8452517006802721\n",
    "\"\"\""
   ]
  },
  {
   "cell_type": "code",
   "execution_count": 25,
   "metadata": {},
   "outputs": [],
   "source": [
    "# 读取降维后数据\n",
    "from sklearn import tree\n",
    "import numpy as np\n",
    "from sklearn.tree import export_graphviz\n",
    "import pandas as pd\n",
    "# temp = pd.read_excel('as.xlsx', 0, dtype=np.float32).iloc[:20,1:]\n",
    "temp = pd.DataFrame()\n",
    "for i in range(5):\n",
    "    temp = pd.concat([temp,pd.read_excel('pca降维后有效数据.xlsx', i, dtype=np.float32).iloc[:,1:]])\n",
    "\n",
    "feature_names = ['sensor1', 'sensor2', 'sensor3']\n"
   ]
  },
  {
   "cell_type": "code",
   "execution_count": null,
   "metadata": {},
   "outputs": [],
   "source": [
    "# 决策树可视化\n",
    "\n",
    "X_temp= np.array(temp.iloc[:,:-1])\n",
    "y_temp = np.array(temp.iloc[:,-1])\n",
    "\n",
    "gbdt = GradientBoostingClassifier(max_depth=10)\n",
    "gbdt.fit(X_temp, y_temp)\n",
    "# export_graphviz(tree,out_file='tree.dot',feature_names=feature_names,\n",
    "#                 class_names=['0', '1', '2', '3', '4'], filled=True)\n",
    "\n",
    "plt.figure(figsize=(15,8),dpi=1000)\n",
    "_ = tree.plot_tree(gbdt[0,0],filled = True)\n",
    "plt.savefig('决策树可视化.jpg')"
   ]
  },
  {
   "cell_type": "code",
   "execution_count": 7,
   "metadata": {},
   "outputs": [
    {
     "data": {
      "text/plain": [
       "GradientBoostingClassifier(max_depth=10)"
      ]
     },
     "execution_count": 7,
     "metadata": {},
     "output_type": "execute_result"
    }
   ],
   "source": [
    "# 模型训练\n",
    "\n",
    "from sklearn.model_selection import train_test_split\n",
    "from sklearn.ensemble import GradientBoostingClassifier\n",
    "from matplotlib import pyplot as plt\n",
    "from pylab import mpl\n",
    "\n",
    "mpl.rcParams['font.sans-serif'] = ['SimHei']\n",
    "mpl.rcParams['axes.unicode_minus'] = False\n",
    "\n",
    "feature_names = ['sensor1', 'sensor2', 'sensor3']\n",
    "\n",
    "X_train, X_test, y_train, y_test = train_test_split(temp.iloc[:,:3], temp.iloc[:,3], train_size=0.75)\n",
    "\n",
    "gbdt = GradientBoostingClassifier(max_depth=10)\n",
    "gbdt.fit(X_train, y_train)\n"
   ]
  },
  {
   "cell_type": "code",
   "execution_count": null,
   "metadata": {},
   "outputs": [],
   "source": [
    "# 权重图\n",
    "\n",
    "plt.barh(range(len(feature_names)), gbdt.feature_importances_, align='center')\n",
    "plt.yticks(np.arange(len(feature_names)),feature_names)\n",
    "plt.xlabel('特征重要性')\n",
    "plt.ylabel('特征')\n",
    "\n",
    "plt.title('梯度提升树最佳深度特征重要性')\n",
    "# plt.savefig('梯度提升树最佳深度特征重要性.jpg',dpi = 200, bbox_inches = 'tight')\n",
    "plt.show()"
   ]
  },
  {
   "cell_type": "code",
   "execution_count": 12,
   "metadata": {},
   "outputs": [
    {
     "name": "stdout",
     "output_type": "stream",
     "text": [
      "              precision    recall  f1-score   support\n",
      "\n",
      "           0       0.84      0.88      0.86      7434\n",
      "           1       0.76      0.76      0.76      7294\n",
      "           2       0.85      0.85      0.85      7374\n",
      "           3       0.86      0.83      0.84      7388\n",
      "           4       0.77      0.75      0.76      7260\n",
      "\n",
      "    accuracy                           0.81     36750\n",
      "   macro avg       0.81      0.81      0.81     36750\n",
      "weighted avg       0.81      0.81      0.81     36750\n",
      "\n"
     ]
    }
   ],
   "source": [
    "# 基于以上训练完的模型，进行模型评估\n",
    "from sklearn.metrics import classification_report\n",
    "\n",
    "print(classification_report(y_test,gbdt.predict(X_test)))"
   ]
  },
  {
   "cell_type": "code",
   "execution_count": 14,
   "metadata": {},
   "outputs": [
    {
     "data": {
      "text/plain": [
       "<AxesSubplot:>"
      ]
     },
     "execution_count": 14,
     "metadata": {},
     "output_type": "execute_result"
    },
    {
     "data": {
      "image/png": "[encoded data removed]",
      "text/plain": [
       "<Figure size 432x288 with 2 Axes>"
      ]
     },
     "metadata": {
      "needs_background": "light"
     },
     "output_type": "display_data"
    }
   ],
   "source": [
    "#混淆矩阵\n",
    "from sklearn.metrics import confusion_matrix\n",
    "import seaborn as sns\n",
    "\n",
    "cm = confusion_matrix(y_train,gbdt.predict(X_train))\n",
    "sns.heatmap(cm,cmap = sns.color_palette(\"Blues\"),annot = True)"
   ]
  },
  {
   "cell_type": "code",
   "execution_count": 8,
   "metadata": {},
   "outputs": [],
   "source": [
    "# 第四题预测部分,读取数据\n",
    "\n",
    "predict_data = pd.read_excel('附件2.xls', sheet_name=None)"
   ]
  },
  {
   "cell_type": "code",
   "execution_count": 39,
   "metadata": {},
   "outputs": [
    {
     "name": "stdout",
     "output_type": "stream",
     "text": [
      "Counter({0.0: 393, 4.0: 382, 1.0: 160, 3.0: 36, 2.0: 29})\n",
      "Counter({0.0: 389, 4.0: 366, 1.0: 203, 3.0: 23, 2.0: 19})\n",
      "Counter({4.0: 415, 0.0: 276, 1.0: 202, 3.0: 65, 2.0: 42})\n",
      "Counter({4.0: 482, 0.0: 223, 1.0: 185, 3.0: 70, 2.0: 40})\n",
      "Counter({0.0: 386, 4.0: 377, 1.0: 180, 3.0: 34, 2.0: 23})\n",
      "Counter({4.0: 411, 0.0: 354, 1.0: 148, 3.0: 53, 2.0: 34})\n",
      "Counter({4.0: 509, 1.0: 317, 0.0: 135, 3.0: 25, 2.0: 14})\n",
      "Counter({4.0: 746, 1.0: 159, 3.0: 43, 0.0: 38, 2.0: 14})\n",
      "Counter({0.0: 437, 4.0: 371, 1.0: 164, 3.0: 14, 2.0: 14})\n",
      "Counter({0.0: 445, 4.0: 374, 1.0: 142, 3.0: 27, 2.0: 12})\n",
      "Counter({4.0: 734, 1.0: 175, 0.0: 41, 3.0: 33, 2.0: 17})\n",
      "Counter({4.0: 487, 0.0: 282, 1.0: 163, 3.0: 44, 2.0: 24})\n"
     ]
    }
   ],
   "source": [
    "# 降维，预测，统计\n",
    "import collections\n",
    "\n",
    "statistical_data = {}\n",
    "result = {}\n",
    "for key, test_data in predict_data.items():\n",
    "    # 去除掉No列\n",
    "    test_data = test_data.iloc[:, 1:5]\n",
    "    # 使用前面训练好的pca算法进行降维\n",
    "    test_data = pd.DataFrame(pca.transform(test_data),columns=feature_names)\n",
    "\n",
    "    # 进行预测\n",
    "    temp_predict = gbdt.predict(test_data)\n",
    "\n",
    "    # 统计各元素出现的个数\n",
    "    data_count=collections.Counter(temp_predict)\n",
    "    statistical_data[key] = data_count\n",
    "    print(data_count)\n",
    "\n",
    "    # 获得出现频率最高的\n",
    "    (val, type_of_failure) = max(zip(data_count.values(),data_count.keys()))\n",
    "    result[key] = type_of_failure\n"
   ]
  },
  {
   "cell_type": "code",
   "execution_count": 45,
   "metadata": {},
   "outputs": [
    {
     "name": "stdout",
     "output_type": "stream",
     "text": [
      "Counter({0.0: 467, 1.0: 14, 4.0: 11, 2.0: 4, 3.0: 4})\n"
     ]
    }
   ],
   "source": [
    "temp_predict = gbdt.predict(temp.iloc[29400*4:29400*4+500,:3])\n",
    "data_count2=collections.Counter(temp_predict)\n",
    "print(data_count2)"
   ]
  },
  {
   "cell_type": "code",
   "execution_count": null,
   "metadata": {},
   "outputs": [],
   "source": []
  }
 ],
 "metadata": {
  "interpreter": {
   "hash": "2e29c5108778eb8e7f9459872b335987e14a8d26233c21432333cc618a7be52a"
  },
  "kernelspec": {
   "display_name": "Python 3.9.7 ('venv': venv)",
   "language": "python",
   "name": "python3"
  },
  "language_info": {
   "codemirror_mode": {
    "name": "ipython",
    "version": 3
   },
   "file_extension": ".py",
   "mimetype": "text/x-python",
   "name": "python",
   "nbconvert_exporter": "python",
   "pygments_lexer": "ipython3",
   "version": "3.9.7"
  }
 },
 "nbformat": 4,
 "nbformat_minor": 0
}