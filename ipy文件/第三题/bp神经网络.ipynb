{
 "cells": [
  {
   "cell_type": "code",
   "execution_count": 1,
   "metadata": {},
   "outputs": [],
   "source": [
    "import numpy as np\n",
    "import pandas as pd\n",
    "from matplotlib import pyplot as plt\n",
    "from sklearn.preprocessing import MinMaxScaler\n",
    "\n",
    "boxes = ['gearbox00', 'gearbox10', 'gearbox20', 'gearbox30', 'gearbox40']\n",
    "sensors = ['sensor1', 'sensor2', 'sensor3', 'sensor4']"
   ]
  },
  {
   "cell_type": "code",
   "execution_count": 10,
   "metadata": {},
   "outputs": [],
   "source": [
    "# 读取原始数据，initial_data\n",
    "\n",
    "initial_data = pd.read_excel('原始数据.xlsx')\n"
   ]
  },
  {
   "cell_type": "code",
   "execution_count": 19,
   "metadata": {},
   "outputs": [],
   "source": [
    "X = np.array(initial_data[sensors[:2]])\n",
    "\n",
    "y = np.array(initial_data[sensors[-2]])\n",
    "y.resize(len(y),1)"
   ]
  },
  {
   "cell_type": "code",
   "execution_count": 28,
   "metadata": {},
   "outputs": [],
   "source": [
    "# 归一化处理\n",
    "\n",
    "X_scaler= MinMaxScaler(feature_range=(-1,1))\n",
    "y_scaler = MinMaxScaler(feature_range=(-1,1))\n",
    "\n",
    "X = X_scaler.fit_transform(X)\n",
    "y = y_scaler.fit_transform(y)"
   ]
  },
  {
   "cell_type": "code",
   "execution_count": 31,
   "metadata": {},
   "outputs": [],
   "source": [
    "# 归一化后放入excel\n",
    "\n",
    "temp1 = pd.DataFrame(X, columns=sensors[:2])\n",
    "temp2 = pd.DataFrame(y, columns=[sensors[-2]])\n",
    "\n",
    "d = pd.concat([temp1,temp2],axis=1)\n",
    "\n",
    "d.to_csv('归一化后数据.csv')"
   ]
  },
  {
   "cell_type": "code",
   "execution_count": 14,
   "metadata": {},
   "outputs": [],
   "source": [
    "# 对样本进行转置，只取其中的25000条数据进行训练，剩下4400条进行准确度的计算\n",
    "sample_in = X[:25000].T\n",
    "sample_out = y[:25000].T"
   ]
  },
  {
   "cell_type": "code",
   "execution_count": 21,
   "metadata": {},
   "outputs": [],
   "source": [
    "# 设置bp网络参数\n",
    "max_epochs = 3000\n",
    "learn_rate = 0.035\n",
    "mse_final = 6.5e-4\n",
    "sample_number = sample_in.shape[1]\n",
    "input_number = 2\n",
    "output_number = 1\n",
    "hidden_unit_number = 8\n"
   ]
  },
  {
   "cell_type": "code",
   "execution_count": 22,
   "metadata": {},
   "outputs": [],
   "source": [
    "# 学习训练超参\n",
    "# w1,b1:输入层到隐藏层\n",
    "# 8*2\n",
    "w1 = 0.5 * np.random.rand(hidden_unit_number, input_number) - 0.1\n",
    "# 8*1\n",
    "b1 = 0.5 * np.random.rand(hidden_unit_number, 1) - 0.1\n",
    "\n",
    "# w2,b2:隐藏层到输出层\n",
    "# 2*8\n",
    "w2 = 0.5 * np.random.rand(output_number, hidden_unit_number) - 0.1\n",
    "# 2*1\n",
    "b2 = 0.5 * np.random.rand(output_number, 1) - 0.1\n"
   ]
  },
  {
   "cell_type": "code",
   "execution_count": 17,
   "metadata": {},
   "outputs": [],
   "source": [
    "# 设置函数\n",
    "\n",
    "def sigmoid(z):\n",
    "    return 1.0 / (1 + np.exp(-z))\n"
   ]
  },
  {
   "cell_type": "code",
   "execution_count": 23,
   "metadata": {},
   "outputs": [
    {
     "name": "stderr",
     "output_type": "stream",
     "text": [
      "C:\\Users\\LeonardoZhou\\AppData\\Local\\Temp\\ipykernel_36812\\1578747997.py:4: RuntimeWarning: overflow encountered in exp\n",
      "  return 1.0 / (1 + np.exp(-z))\n",
      "c:\\Users\\LeonardoZhou\\PycharmProjects\\长三角数学建模\\venv\\lib\\site-packages\\numpy\\core\\_methods.py:179: RuntimeWarning: overflow encountered in reduce\n",
      "  ret = umr_sum(arr, axis, dtype, out, keepdims, where=where)\n",
      "C:\\Users\\LeonardoZhou\\AppData\\Local\\Temp\\ipykernel_36812\\82849913.py:9: RuntimeWarning: overflow encountered in square\n",
      "  mse = np.average(np.square(err))\n",
      "C:\\Users\\LeonardoZhou\\AppData\\Local\\Temp\\ipykernel_36812\\82849913.py:16: RuntimeWarning: invalid value encountered in multiply\n",
      "  delta1 = np.dot(w2.transpose(), delta2) * hidden_out * (1 - hidden_out)\n"
     ]
    }
   ],
   "source": [
    "mse_history = []\n",
    "for i in range(max_epochs):\n",
    "    # fp\n",
    "    # 计算隐藏层\n",
    "    hidden_out = sigmoid(np.dot(w1, sample_in) + b1)\n",
    "    network_out = np.dot(w2, hidden_out) + b2\n",
    "    # 误差计算\n",
    "    err = sample_out - network_out\n",
    "    mse = np.average(np.square(err))\n",
    "    mse_history.append(mse)\n",
    "    if mse < mse_final:\n",
    "        break\n",
    "\n",
    "    # bp\n",
    "    delta2 = -err\n",
    "    delta1 = np.dot(w2.transpose(), delta2) * hidden_out * (1 - hidden_out)\n",
    "\n",
    "    # w2的偏导\n",
    "    delta_w2 = np.dot(delta2, hidden_out.transpose())\n",
    "    delta_b2 = np.dot(delta2, np.ones((sample_number, 1)))\n",
    "\n",
    "    delta_w1 = np.dot(delta1, sample_in.transpose())\n",
    "    delta_b1 = np.dot(delta1, np.ones((sample_number, 1)))\n",
    "\n",
    "    w2 -= learn_rate * delta_w2\n",
    "    w1 -= learn_rate * delta_w1\n",
    "    b2 -= learn_rate * delta_b2\n",
    "    b1 -= learn_rate * delta_b1\n"
   ]
  },
  {
   "cell_type": "code",
   "execution_count": null,
   "metadata": {},
   "outputs": [],
   "source": []
  }
 ],
 "metadata": {
  "interpreter": {
   "hash": "2e29c5108778eb8e7f9459872b335987e14a8d26233c21432333cc618a7be52a"
  },
  "kernelspec": {
   "display_name": "Python 3.9.7 ('venv': venv)",
   "language": "python",
   "name": "python3"
  },
  "language_info": {
   "codemirror_mode": {
    "name": "ipython",
    "version": 3
   },
   "file_extension": ".py",
   "mimetype": "text/x-python",
   "name": "python",
   "nbconvert_exporter": "python",
   "pygments_lexer": "ipython3",
   "version": "3.9.7"
  },
  "orig_nbformat": 4
 },
 "nbformat": 4,
 "nbformat_minor": 2
}
