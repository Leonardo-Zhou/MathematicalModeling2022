{
 "cells": [
  {
   "cell_type": "code",
   "execution_count": 4,
   "metadata": {},
   "outputs": [],
   "source": [
    "import pandas as pd\n",
    "import numpy as np\n",
    "\n",
    "# 读取原始文件,写入到一张表中,其中总共数据量较少\n",
    "\n",
    "gearbox_initial = []\n",
    "for i in range(5):\n",
    "    gearbox_initial.append(pd.read_excel('原始数据.xlsx', i, dtype=np.float32).iloc[:2000,:5])\n",
    "    gearbox_initial[i]['target'] = i\n",
    "\n",
    "temp = pd.concat(gearbox_initial)\n",
    "temp.to_excel('10000组原始数据.xlsx')\n",
    "\n",
    "# initial_4w = []\n",
    "# for i in range(5):\n",
    "#     initial_4w.append(temp[i*29400:i*29400+5000,:])\n",
    "\n",
    "# initial_4w = pd.concat(initial_4w)"
   ]
  },
  {
   "cell_type": "code",
   "execution_count": null,
   "metadata": {},
   "outputs": [],
   "source": []
  }
 ],
 "metadata": {
  "interpreter": {
   "hash": "2e29c5108778eb8e7f9459872b335987e14a8d26233c21432333cc618a7be52a"
  },
  "kernelspec": {
   "display_name": "Python 3.9.7 ('venv': venv)",
   "language": "python",
   "name": "python3"
  },
  "language_info": {
   "name": "python",
   "version": "3.9.7"
  },
  "orig_nbformat": 4
 },
 "nbformat": 4,
 "nbformat_minor": 2
}
