{
 "cells": [
  {
   "cell_type": "code",
   "execution_count": 4,
   "metadata": {},
   "outputs": [],
   "source": [
    "from numpy import array\n",
    "from keras.preprocessing.text import one_hot\n",
    "from keras.preprocessing.sequence import pad_sequences\n",
    "from keras.models import Sequential\n",
    "from keras.layers.core import Activation, Dropout, Dense\n",
    "from keras.layers import Flatten, LSTM\n",
    "from keras.layers import GlobalMaxPooling1D\n",
    "from keras.models import Model\n",
    "from keras.layers.embeddings import Embedding\n",
    "from sklearn.model_selection import train_test_split\n",
    "from keras.preprocessing.text import Tokenizer\n",
    "from keras.layers import Input\n",
    "from keras.layers.merge import Concatenate\n",
    "from keras.layers import Bidirectional\n",
    "import numpy as np\n",
    "import pandas as pd"
   ]
  },
  {
   "cell_type": "code",
   "execution_count": 6,
   "metadata": {},
   "outputs": [],
   "source": [
    "# 读取原始文件,写入到一张表中\n",
    "\n",
    "gearbox_initial = []\n",
    "for i in range(5):\n",
    "    gearbox_initial.append(pd.read_excel('原始数据.xlsx', i, dtype=np.float32).iloc[:,:5])\n",
    "    gearbox_initial[i]['target'] = i\n",
    "\n",
    "temp = pd.concat(gearbox_initial)\n",
    "temp.to_excel('原始数据一张表.xlsx')"
   ]
  },
  {
   "cell_type": "code",
   "execution_count": 25,
   "metadata": {},
   "outputs": [],
   "source": [
    "# 读取训练文件\n",
    "\n",
    "data = pd.read_excel('原始数据一张表.xlsx')\n"
   ]
  },
  {
   "cell_type": "markdown",
   "metadata": {},
   "source": []
  },
  {
   "cell_type": "code",
   "execution_count": 29,
   "metadata": {},
   "outputs": [
    {
     "name": "stdout",
     "output_type": "stream",
     "text": [
      "Model: \"sequential_3\"\n",
      "_________________________________________________________________\n",
      " Layer (type)                Output Shape              Param #   \n",
      "=================================================================\n",
      " lstm_3 (LSTM)               (None, 50)                11000     \n",
      "                                                                 \n",
      " dense_3 (Dense)             (None, 1)                 51        \n",
      "                                                                 \n",
      "=================================================================\n",
      "Total params: 11,051\n",
      "Trainable params: 11,051\n",
      "Non-trainable params: 0\n",
      "_________________________________________________________________\n",
      "None\n"
     ]
    }
   ],
   "source": [
    "# 创建模型初始\n",
    "\n",
    "model = Sequential()\n",
    "model.add(LSTM(50, activation='relu', input_shape=(1, 4)))\n",
    "model.add(Dense(1))\n",
    "model.compile(optimizer='adam', loss='mse')\n",
    "print(model.summary())"
   ]
  },
  {
   "cell_type": "code",
   "execution_count": 30,
   "metadata": {},
   "outputs": [
    {
     "name": "stdout",
     "output_type": "stream",
     "text": [
      "[[[ 6.70200000e+03  1.25313001e-02 -4.18750010e-03  3.46875004e-02]]\n",
      "\n",
      " [[ 1.68800000e+03  1.58594009e-02  6.31250022e-03  2.00155992e-02]]\n",
      "\n",
      " [[ 2.88920000e+04  1.10938004e-03  3.37500013e-02  7.43750017e-03]]\n",
      "\n",
      " ...\n",
      "\n",
      " [[ 7.73900000e+03  1.89219005e-02 -1.82812999e-03  7.70469010e-02]]\n",
      "\n",
      " [[ 3.52000000e+02  1.60000008e-02  2.38438006e-02 -6.06250018e-03]]\n",
      "\n",
      " [[ 1.41670000e+04 -7.47656003e-02  7.98438024e-03 -3.83593999e-02]]]\n"
     ]
    }
   ],
   "source": [
    "\n",
    "X_train, X_test, y_train, y_test = train_test_split(data.iloc[:,:4], data.iloc[:,-1], train_size=0.75, random_state=0)\n",
    "X_train = np.array(X_train).reshape(len(X_train),1,4)\n",
    "print(X_train)"
   ]
  },
  {
   "cell_type": "code",
   "execution_count": 31,
   "metadata": {},
   "outputs": [
    {
     "name": "stdout",
     "output_type": "stream",
     "text": [
      "Epoch 1/8\n",
      "17640/17640 [==============================] - 16s 856us/step - loss: 433.3264 - val_loss: 2.3213\n",
      "Epoch 2/8\n",
      "17640/17640 [==============================] - 14s 819us/step - loss: 27.6121 - val_loss: 2.7191\n",
      "Epoch 3/8\n",
      "17640/17640 [==============================] - 16s 897us/step - loss: 5.9027 - val_loss: 2.3446\n",
      "Epoch 4/8\n",
      "17640/17640 [==============================] - 16s 933us/step - loss: 4.8898 - val_loss: 5.4037\n",
      "Epoch 5/8\n",
      "17640/17640 [==============================] - 16s 906us/step - loss: 3.9638 - val_loss: 2.3327\n",
      "Epoch 6/8\n",
      "17640/17640 [==============================] - 17s 968us/step - loss: 3.1067 - val_loss: 2.0174\n",
      "Epoch 7/8\n",
      "17640/17640 [==============================] - 15s 846us/step - loss: 2.0568 - val_loss: 1.9978\n",
      "Epoch 8/8\n",
      "17640/17640 [==============================] - 19s 1ms/step - loss: 1.9999 - val_loss: 1.9975\n"
     ]
    },
    {
     "data": {
      "text/plain": [
       "<keras.callbacks.History at 0x2d141d2d430>"
      ]
     },
     "execution_count": 31,
     "metadata": {},
     "output_type": "execute_result"
    }
   ],
   "source": [
    "model.fit(X_train, y_train, epochs=8, validation_split=0.2, batch_size=5)\n"
   ]
  },
  {
   "cell_type": "code",
   "execution_count": 32,
   "metadata": {},
   "outputs": [
    {
     "name": "stdout",
     "output_type": "stream",
     "text": [
      "[[2.0030081]\n",
      " [2.0030081]\n",
      " [2.0030081]\n",
      " ...\n",
      " [2.0030081]\n",
      " [2.0030081]\n",
      " [2.0030081]]\n"
     ]
    }
   ],
   "source": [
    "X_test = np.array(X_test).reshape(len(X_test),1,4)\n",
    "print(model.predict(X_test))"
   ]
  },
  {
   "cell_type": "code",
   "execution_count": null,
   "metadata": {},
   "outputs": [],
   "source": []
  }
 ],
 "metadata": {
  "interpreter": {
   "hash": "2e29c5108778eb8e7f9459872b335987e14a8d26233c21432333cc618a7be52a"
  },
  "kernelspec": {
   "display_name": "Python 3.9.7 ('venv': venv)",
   "language": "python",
   "name": "python3"
  },
  "language_info": {
   "codemirror_mode": {
    "name": "ipython",
    "version": 3
   },
   "file_extension": ".py",
   "mimetype": "text/x-python",
   "name": "python",
   "nbconvert_exporter": "python",
   "pygments_lexer": "ipython3",
   "version": "3.9.7"
  },
  "orig_nbformat": 4
 },
 "nbformat": 4,
 "nbformat_minor": 2
}
