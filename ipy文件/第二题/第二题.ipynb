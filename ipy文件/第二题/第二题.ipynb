{
 "cells": [
  {
   "cell_type": "code",
   "execution_count": null,
   "metadata": {},
   "outputs": [],
   "source": [
    "import numpy as np\n",
    "import pandas as pd\n",
    "\n",
    "train = pd.read_excel('原始数据.xlsx').iloc[:4500,:4]\n",
    "test = pd.read_excel('原始数据.xlsx').iloc[4500:6000,:4]"
   ]
  },
  {
   "cell_type": "code",
   "execution_count": null,
   "metadata": {},
   "outputs": [],
   "source": [
    "# 读取降维后的文件\n",
    "import numpy as np\n",
    "import pandas as pd\n",
    "\n",
    "\n",
    "gearbox_initial = []\n",
    "for i in range(5):\n",
    "    gearbox_initial.append(pd.read_excel('pca降维后有效数据.xlsx', i, dtype=np.float32).iloc[:,:5])\n",
    "    type = gearbox_initial[i]['target'][0]\n",
    "    gearbox_initial[i]['target'] = type if type ==0 else 1\n",
    "data = pd.concat(gearbox_initial)"
   ]
  },
  {
   "cell_type": "code",
   "execution_count": null,
   "metadata": {},
   "outputs": [],
   "source": [
    "# 模型训练\n",
    "from sklearn.model_selection import train_test_split\n",
    "from sklearn.ensemble import GradientBoostingClassifier\n",
    "\n",
    "\n",
    "X_train, X_test, y_train, y_test = train_test_split(data.iloc[:,:3], data.iloc[:,-1], train_size=0.75, random_state=0)\n",
    "\n",
    "gbdt = GradientBoostingClassifier(max_depth=10)\n",
    "gbdt.fit(X_train, y_train)"
   ]
  },
  {
   "cell_type": "code",
   "execution_count": null,
   "metadata": {},
   "outputs": [],
   "source": [
    "# 输出模型评估\n",
    "\n",
    "from sklearn.metrics import classification_report\n",
    "a = classification_report(y_train,\n",
    "                          gbdt.predict(X_train),\n",
    "                          digits = 2,#小数点后保留的位数\n",
    "                          labels = [0,1],#类别的排序\n",
    "                          target_names = ['正常','故障'],#类别的名称\n",
    "                          output_dict = False)#结果是否以字典的形式输出\n",
    "print(a)\n",
    "\n"
   ]
  },
  {
   "cell_type": "code",
   "execution_count": 2,
   "metadata": {},
   "outputs": [
    {
     "data": {
      "image/png": "[encoded data removed]",
      "text/plain": [
       "<Figure size 432x288 with 1 Axes>"
      ]
     },
     "metadata": {},
     "output_type": "display_data"
    }
   ],
   "source": [
    "# pca可视化\n",
    "from sklearn.decomposition import PCA\n",
    "import numpy as np\n",
    "import matplotlib.pyplot as plt\n",
    "import seaborn as sns;sns.set()\n",
    "\n",
    "#产生实验数据\n",
    "rng = np.random.RandomState(1)\n",
    "x = np.dot(rng.rand(2, 2), rng.randn(2, 200)).T\n",
    "plt.scatter(x[:, 0], x[:, 1])\n",
    "plt.axis('equal')\n",
    "\n",
    "pca = PCA(n_components=1)\n",
    "pca.fit(x)\n",
    "x_pca = pca.transform(x)\n",
    "\n",
    "#可视化降维的效果\n",
    "x_new = pca.inverse_transform(x_pca)\n",
    "plt.scatter(x[:, 0], x[:, 1], alpha=0.2)\n",
    "plt.scatter(x_new[:, 0], x_new[:, 1], alpha=0.8)\n",
    "plt.axis('equal')\n",
    "plt.savefig('pca降维可视化.jpg')\n",
    "plt.show()\n"
   ]
  },
  {
   "cell_type": "code",
   "execution_count": null,
   "metadata": {},
   "outputs": [],
   "source": []
  }
 ],
 "metadata": {
  "interpreter": {
   "hash": "2e29c5108778eb8e7f9459872b335987e14a8d26233c21432333cc618a7be52a"
  },
  "kernelspec": {
   "display_name": "Python 3.9.7 ('venv': venv)",
   "language": "python",
   "name": "python3"
  },
  "language_info": {
   "codemirror_mode": {
    "name": "ipython",
    "version": 3
   },
   "file_extension": ".py",
   "mimetype": "text/x-python",
   "name": "python",
   "nbconvert_exporter": "python",
   "pygments_lexer": "ipython3",
   "version": "3.9.7"
  },
  "orig_nbformat": 4
 },
 "nbformat": 4,
 "nbformat_minor": 2
}
