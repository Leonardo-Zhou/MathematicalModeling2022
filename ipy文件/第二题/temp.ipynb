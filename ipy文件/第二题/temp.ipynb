{
 "cells": [
  {
   "cell_type": "code",
   "execution_count": 3,
   "metadata": {},
   "outputs": [],
   "source": [
    "a = 2"
   ]
  },
  {
   "cell_type": "code",
   "execution_count": 7,
   "metadata": {},
   "outputs": [],
   "source": [
    "# 读取降维后的文件\n",
    "import numpy as np\n",
    "import pandas as pd\n",
    "\n",
    "gearbox_initial = []\n",
    "for i in range(5):\n",
    "    gearbox_initial.append(pd.read_excel('pca降维后有效数据.xlsx', i, dtype=np.float32).iloc[:,:5])\n",
    "    type = gearbox_initial[i]['target'][0]\n",
    "    gearbox_initial[i]['target'] = type if type ==0 else 1\n",
    "data = pd.concat(gearbox_initial)"
   ]
  },
  {
   "cell_type": "code",
   "execution_count": 8,
   "outputs": [
    {
     "name": "stdout",
     "output_type": "stream",
     "text": [
      "        sensor1   sensor2   sensor3  target\n",
      "0     -0.061218 -0.005710  0.053284     0.0\n",
      "1     -0.061213  0.031439 -0.061186     0.0\n",
      "2     -0.061274 -0.027376  0.022260     0.0\n",
      "3     -0.061231  0.011367 -0.013719     0.0\n",
      "4     -0.061156  0.031610  0.061814     0.0\n",
      "...         ...       ...       ...     ...\n",
      "29395 -0.058792  0.026728 -0.094046     1.0\n",
      "29396 -0.058700 -0.016082  0.012422     1.0\n",
      "29397 -0.058706 -0.022522 -0.009271     1.0\n",
      "29398 -0.058498  0.018134 -0.004320     1.0\n",
      "29399 -0.058709 -0.021950 -0.014195     1.0\n",
      "\n",
      "[147000 rows x 4 columns]\n"
     ]
    }
   ],
   "source": [
    "print(data)"
   ],
   "metadata": {
    "collapsed": false,
    "pycharm": {
     "name": "#%%\n"
    }
   }
  },
  {
   "cell_type": "code",
   "execution_count": null,
   "outputs": [],
   "source": [],
   "metadata": {
    "collapsed": false,
    "pycharm": {
     "name": "#%%\n"
    }
   }
  },
  {
   "cell_type": "code",
   "execution_count": null,
   "metadata": {},
   "outputs": [],
   "source": []
  }
 ],
 "metadata": {
  "interpreter": {
   "hash": "2e29c5108778eb8e7f9459872b335987e14a8d26233c21432333cc618a7be52a"
  },
  "kernelspec": {
   "display_name": "Python 3.9.7 ('venv': venv)",
   "language": "python",
   "name": "python3"
  },
  "language_info": {
   "codemirror_mode": {
    "name": "ipython",
    "version": 3
   },
   "file_extension": ".py",
   "mimetype": "text/x-python",
   "name": "python",
   "nbconvert_exporter": "python",
   "pygments_lexer": "ipython3",
   "version": "3.9.7"
  },
  "orig_nbformat": 4
 },
 "nbformat": 4,
 "nbformat_minor": 2
}